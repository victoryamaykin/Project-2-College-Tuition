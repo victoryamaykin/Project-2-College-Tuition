{
 "cells": [
  {
   "cell_type": "code",
   "execution_count": 1,
   "metadata": {},
   "outputs": [],
   "source": [
    "import plotly.plotly as py\n",
    "import plotly.graph_objs as go \n",
    "\n",
    "from datetime import datetime\n",
    "import pandas as pd\n",
    "import warnings\n",
    "warnings.filterwarnings('ignore')\n"
   ]
  },
  {
   "cell_type": "code",
   "execution_count": 2,
   "metadata": {},
   "outputs": [],
   "source": [
    "df = pd.read_csv('data/sample.csv')\n",
    "df.columns = [col.replace('nan', '') for col in df.columns]"
   ]
  },
  {
   "cell_type": "code",
   "execution_count": 3,
   "metadata": {},
   "outputs": [
    {
     "data": {
      "text/html": [
       "<div>\n",
       "<style scoped>\n",
       "    .dataframe tbody tr th:only-of-type {\n",
       "        vertical-align: middle;\n",
       "    }\n",
       "\n",
       "    .dataframe tbody tr th {\n",
       "        vertical-align: top;\n",
       "    }\n",
       "\n",
       "    .dataframe thead th {\n",
       "        text-align: right;\n",
       "    }\n",
       "</style>\n",
       "<table border=\"1\" class=\"dataframe\">\n",
       "  <thead>\n",
       "    <tr style=\"text-align: right;\">\n",
       "      <th></th>\n",
       "      <th>index</th>\n",
       "      <th>State</th>\n",
       "      <th>public4Year_total</th>\n",
       "      <th>public4Year_tuitionFees</th>\n",
       "      <th>public4Year_room</th>\n",
       "      <th>public4Year_board</th>\n",
       "      <th>public4Year_outStateTotal</th>\n",
       "      <th>privateTotal</th>\n",
       "      <th>privatetuitionFees</th>\n",
       "      <th>privateRoom</th>\n",
       "      <th>privateBoard</th>\n",
       "      <th>public2YInState</th>\n",
       "      <th>public2YOutState</th>\n",
       "    </tr>\n",
       "  </thead>\n",
       "  <tbody>\n",
       "    <tr>\n",
       "      <th>0</th>\n",
       "      <td>1</td>\n",
       "      <td>AL</td>\n",
       "      <td>19052.005</td>\n",
       "      <td>9466.105</td>\n",
       "      <td>5385.984</td>\n",
       "      <td>4199.916</td>\n",
       "      <td>23999.508</td>\n",
       "      <td>24709.536</td>\n",
       "      <td>15421.537</td>\n",
       "      <td>4676.622</td>\n",
       "      <td>4611.377</td>\n",
       "      <td>4362.02</td>\n",
       "      <td>9074.60</td>\n",
       "    </tr>\n",
       "    <tr>\n",
       "      <th>1</th>\n",
       "      <td>2</td>\n",
       "      <td>AK</td>\n",
       "      <td>17370.129</td>\n",
       "      <td>7210.342</td>\n",
       "      <td>5830.018</td>\n",
       "      <td>4329.769</td>\n",
       "      <td>21431.489</td>\n",
       "      <td>26131.550</td>\n",
       "      <td>18876.363</td>\n",
       "      <td>3622.961</td>\n",
       "      <td>3632.226</td>\n",
       "      <td>3820.00</td>\n",
       "      <td>3820.00</td>\n",
       "    </tr>\n",
       "    <tr>\n",
       "      <th>2</th>\n",
       "      <td>3</td>\n",
       "      <td>AZ</td>\n",
       "      <td>21490.559</td>\n",
       "      <td>10056.575</td>\n",
       "      <td>6696.872</td>\n",
       "      <td>4737.112</td>\n",
       "      <td>25061.481</td>\n",
       "      <td>22558.535</td>\n",
       "      <td>13139.738</td>\n",
       "      <td>5099.811</td>\n",
       "      <td>4318.986</td>\n",
       "      <td>2129.20</td>\n",
       "      <td>7931.35</td>\n",
       "    </tr>\n",
       "    <tr>\n",
       "      <th>3</th>\n",
       "      <td>4</td>\n",
       "      <td>AR</td>\n",
       "      <td>16871.207</td>\n",
       "      <td>7924.042</td>\n",
       "      <td>4958.633</td>\n",
       "      <td>3988.532</td>\n",
       "      <td>19322.961</td>\n",
       "      <td>29803.687</td>\n",
       "      <td>21709.817</td>\n",
       "      <td>4100.080</td>\n",
       "      <td>3993.790</td>\n",
       "      <td>3195.11</td>\n",
       "      <td>4582.08</td>\n",
       "    </tr>\n",
       "    <tr>\n",
       "      <th>4</th>\n",
       "      <td>5</td>\n",
       "      <td>CA</td>\n",
       "      <td>21355.599</td>\n",
       "      <td>7896.422</td>\n",
       "      <td>7531.504</td>\n",
       "      <td>5927.673</td>\n",
       "      <td>28253.183</td>\n",
       "      <td>44721.640</td>\n",
       "      <td>31495.075</td>\n",
       "      <td>7467.173</td>\n",
       "      <td>5759.392</td>\n",
       "      <td>1261.82</td>\n",
       "      <td>7120.07</td>\n",
       "    </tr>\n",
       "  </tbody>\n",
       "</table>\n",
       "</div>"
      ],
      "text/plain": [
       "   index State  public4Year_total  public4Year_tuitionFees  public4Year_room  \\\n",
       "0      1    AL          19052.005                 9466.105          5385.984   \n",
       "1      2    AK          17370.129                 7210.342          5830.018   \n",
       "2      3    AZ          21490.559                10056.575          6696.872   \n",
       "3      4    AR          16871.207                 7924.042          4958.633   \n",
       "4      5    CA          21355.599                 7896.422          7531.504   \n",
       "\n",
       "   public4Year_board  public4Year_outStateTotal  privateTotal  \\\n",
       "0           4199.916                  23999.508     24709.536   \n",
       "1           4329.769                  21431.489     26131.550   \n",
       "2           4737.112                  25061.481     22558.535   \n",
       "3           3988.532                  19322.961     29803.687   \n",
       "4           5927.673                  28253.183     44721.640   \n",
       "\n",
       "   privatetuitionFees  privateRoom  privateBoard  public2YInState  \\\n",
       "0           15421.537     4676.622      4611.377          4362.02   \n",
       "1           18876.363     3622.961      3632.226          3820.00   \n",
       "2           13139.738     5099.811      4318.986          2129.20   \n",
       "3           21709.817     4100.080      3993.790          3195.11   \n",
       "4           31495.075     7467.173      5759.392          1261.82   \n",
       "\n",
       "   public2YOutState  \n",
       "0           9074.60  \n",
       "1           3820.00  \n",
       "2           7931.35  \n",
       "3           4582.08  \n",
       "4           7120.07  "
      ]
     },
     "execution_count": 3,
     "metadata": {},
     "output_type": "execute_result"
    }
   ],
   "source": [
    "#convert dataframe to numeric\n",
    "df = df.convert_objects(convert_numeric=True)\n",
    "df.head()"
   ]
  },
  {
   "cell_type": "code",
   "execution_count": 4,
   "metadata": {},
   "outputs": [],
   "source": [
    "trace_high = go.Scatter(x=list(df.State),\n",
    "                        y=list(df.privateTotal),\n",
    "                        name='High',\n",
    "                        line=dict(color='#008000'))"
   ]
  },
  {
   "cell_type": "code",
   "execution_count": 5,
   "metadata": {},
   "outputs": [],
   "source": [
    "trace_high_avg = go.Scatter(x=list(df.State),\n",
    "                            y=[df.privateTotal.mean()]*len(df.State),\n",
    "                            name='High Average',\n",
    "                            visible=False,\n",
    "                            line=dict(color='#008000', dash='dash'))"
   ]
  },
  {
   "cell_type": "code",
   "execution_count": 6,
   "metadata": {},
   "outputs": [],
   "source": [
    "trace_low = go.Scatter(x=list(df.State),\n",
    "                       y=list(df.public4Year_total),\n",
    "                       name='Low',\n",
    "                       line=dict(color='#800000'))"
   ]
  },
  {
   "cell_type": "code",
   "execution_count": 7,
   "metadata": {},
   "outputs": [],
   "source": [
    "trace_low_avg = go.Scatter(x=list(df.State),\n",
    "                           y=[df.public4Year_total.mean()]*len(df.State),\n",
    "                           name='Low Average',\n",
    "                           visible=False,\n",
    "                           line=dict(color='#800000', dash='dash'))"
   ]
  },
  {
   "cell_type": "code",
   "execution_count": 8,
   "metadata": {},
   "outputs": [],
   "source": [
    "#public4Year_outState\n",
    "trace_low2 = go.Scatter(x=list(df.State),\n",
    "                       y=list(df.public4Year_outStateTotal),\n",
    "                       name='Low2',\n",
    "                       line=dict(color='#000080'))"
   ]
  },
  {
   "cell_type": "code",
   "execution_count": 9,
   "metadata": {},
   "outputs": [],
   "source": [
    "trace_low2_avg = go.Scatter(x=list(df.State),\n",
    "                           y=[df.public4Year_outStateTotal.mean()]*len(df.State),\n",
    "                           name='Low2 Average',\n",
    "                           visible=False,\n",
    "                           line=dict(color='#000080', dash='dash'))"
   ]
  },
  {
   "cell_type": "code",
   "execution_count": 10,
   "metadata": {},
   "outputs": [],
   "source": [
    "#public2YInState\n",
    "trace_low3 = go.Scatter(x=list(df.State),\n",
    "                        y=list(df.public2YInState),\n",
    "                        name='2YearIn',\n",
    "                        line=dict(color='#000000'))"
   ]
  },
  {
   "cell_type": "code",
   "execution_count": 11,
   "metadata": {},
   "outputs": [],
   "source": [
    "trace_low3_avg = go.Scatter(x=list(df.State),\n",
    "                            y=[df.public2YInState.mean()]*len(df.State),\n",
    "                            name='2YearIn Average',\n",
    "                            visible=False,\n",
    "                            line=dict(color='#000000', dash='dash'))"
   ]
  },
  {
   "cell_type": "code",
   "execution_count": 12,
   "metadata": {},
   "outputs": [],
   "source": [
    "data = [trace_high, trace_high_avg, trace_low, trace_low_avg, trace_low2, trace_low2_avg,trace_low3, trace_low3_avg]"
   ]
  },
  {
   "cell_type": "code",
   "execution_count": 13,
   "metadata": {},
   "outputs": [],
   "source": [
    "high_annotations=[dict(x='State',\n",
    "                       y=df.privateTotal.mean(),\n",
    "                       xref='x', yref='y',\n",
    "                       text='High Average:<br>'+str(df.privateTotal.mean()),\n",
    "                       ax=0, ay=-40),\n",
    "                  dict(x=df.privateTotal.idxmax(),\n",
    "                       y=df.privateTotal.max(),\n",
    "                       xref='x', yref='y',\n",
    "                       text='High Max:<br>'+str(df.privateTotal.max()),\n",
    "                       ax=0, ay=-40)]"
   ]
  },
  {
   "cell_type": "code",
   "execution_count": 14,
   "metadata": {},
   "outputs": [],
   "source": [
    "low_annotations=[dict(x='State',\n",
    "                      y=df.public4Year_total.mean(),\n",
    "                      xref='x', yref='y',\n",
    "                      text='Low Average:<br>'+str(df.public4Year_total.mean()),\n",
    "                      ax=0, ay=40),\n",
    "                 dict(x=df.privateTotal.idxmin(),\n",
    "                      y=df.public4Year_total.min(),\n",
    "                      xref='x', yref='y',\n",
    "                      text='Low Min:<br>'+str(df.public4Year_total.min()),\n",
    "                      ax=0, ay=40)]"
   ]
  },
  {
   "cell_type": "code",
   "execution_count": 15,
   "metadata": {},
   "outputs": [],
   "source": [
    "low2_annotations=[dict(x='State',\n",
    "                      y=df.public4Year_outStateTotal.mean(),\n",
    "                      xref='x', yref='y',\n",
    "                      text='Low2 Average:<br>'+str(df.public4Year_outStateTotal.mean()),\n",
    "                      ax=0, ay=40),\n",
    "                 dict(x=df.privateTotal.idxmin(),\n",
    "                      y=df.public4Year_outStateTotal.min(),\n",
    "                      xref='x', yref='y',\n",
    "                      text='Low2 Min:<br>'+str(df.public4Year_outStateTotal.min()),\n",
    "                      ax=0, ay=40)]"
   ]
  },
  {
   "cell_type": "code",
   "execution_count": 16,
   "metadata": {},
   "outputs": [],
   "source": [
    "low3_annotations=[dict(x='State',\n",
    "                       y=df.public2YInState.mean(),\n",
    "                       xref='x', yref='y',\n",
    "                       text='2YearIn Average:<br>'+str(df.public2YInState.mean()),\n",
    "                       ax=0, ay=-40),\n",
    "                  dict(x=df.privateTotal.idxmax(),\n",
    "                       y=df.public2YInState.max(),\n",
    "                       xref='x', yref='y',\n",
    "                       text='2YearIn Max:<br>'+str(df.public2YInState.max()),\n",
    "                       ax=0, ay=-40)]"
   ]
  },
  {
   "cell_type": "code",
   "execution_count": 17,
   "metadata": {},
   "outputs": [],
   "source": [
    "updatemenus = list([\n",
    "    dict(active=-1,\n",
    "         buttons=list([   \n",
    "            dict(label = 'High',\n",
    "                 method = 'update',\n",
    "                 args = [{'visible': [True, True, False, False]},\n",
    "                         {'title': 'Tuition High',\n",
    "                          'annotations': high_annotations}]),\n",
    "            dict(label = 'Low',\n",
    "                 method = 'update',\n",
    "                 args = [{'visible': [False, False, True, True]},\n",
    "                         {'title': 'Tuition Low',\n",
    "                          'annotations': low_annotations}]),\n",
    "             dict(label = 'Low2',\n",
    "                 method = 'update',\n",
    "                 args = [{'visible': [False, False, True, True]},\n",
    "                         {'title': 'Tuition Low2',\n",
    "                          'annotations': low2_annotations}]),\n",
    "             dict(label = 'low3',\n",
    "                 method = 'update',\n",
    "                 args = [{'visible': [True, True, False, False]},\n",
    "                         {'title': 'Tuition 2YearIn',\n",
    "                          'annotations': high_annotations}]),\n",
    "            dict(label = 'Both',\n",
    "                 method = 'update',\n",
    "                 args = [{'visible': [True, True, True, True]},\n",
    "                         {'title': 'Public Vs Private 4 Year Tuition',\n",
    "                          'annotations': high_annotations+low_annotations}]),\n",
    "            dict(label = 'Reset',\n",
    "                 method = 'update',\n",
    "                 args = [{'visible': [True, False, True, False]},\n",
    "                         {'title': 'Public Vs Private 4 Year Tuition',\n",
    "                          'annotations': []}])\n",
    "        ]),\n",
    "    )\n",
    "])"
   ]
  },
  {
   "cell_type": "code",
   "execution_count": 18,
   "metadata": {
    "scrolled": true
   },
   "outputs": [
    {
     "data": {
      "text/html": [
       "<iframe id=\"igraph\" scrolling=\"no\" style=\"border:none;\" seamless=\"seamless\" src=\"https://plot.ly/~veera23/10.embed\" height=\"525px\" width=\"100%\"></iframe>"
      ],
      "text/plain": [
       "<plotly.tools.PlotlyDisplay object>"
      ]
     },
     "execution_count": 18,
     "metadata": {},
     "output_type": "execute_result"
    }
   ],
   "source": [
    "layout = dict(title='Public Vs Private 4 Year Tuition', showlegend=False,\n",
    "              updatemenus=updatemenus)\n",
    "\n",
    "fig = dict(data=data, layout=layout)\n",
    "py.iplot(fig, filename='update_dropdown')"
   ]
  },
  {
   "cell_type": "code",
   "execution_count": null,
   "metadata": {},
   "outputs": [],
   "source": []
  },
  {
   "cell_type": "code",
   "execution_count": null,
   "metadata": {},
   "outputs": [],
   "source": []
  }
 ],
 "metadata": {
  "kernelspec": {
   "display_name": "Python 3",
   "language": "python",
   "name": "python3"
  },
  "language_info": {
   "codemirror_mode": {
    "name": "ipython",
    "version": 3
   },
   "file_extension": ".py",
   "mimetype": "text/x-python",
   "name": "python",
   "nbconvert_exporter": "python",
   "pygments_lexer": "ipython3",
   "version": "3.7.1"
  }
 },
 "nbformat": 4,
 "nbformat_minor": 2
}
